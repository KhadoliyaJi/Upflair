{
 "cells": [
  {
   "cell_type": "code",
   "execution_count": 11,
   "id": "bc6024f2",
   "metadata": {},
   "outputs": [
    {
     "name": "stdout",
     "output_type": "stream",
     "text": [
      "1\n",
      "2\n",
      "3\n",
      "5\n",
      "7\n",
      "11\n",
      "13\n",
      "17\n",
      "19\n",
      "23\n",
      "29\n",
      "31\n",
      "37\n",
      "41\n",
      "43\n",
      "47\n",
      "53\n",
      "59\n",
      "61\n",
      "67\n",
      "71\n",
      "73\n",
      "79\n",
      "83\n",
      "89\n",
      "97\n"
     ]
    }
   ],
   "source": [
    "# x = int(input(\"Enter number\"))\n",
    "# for i in range (1,100):\n",
    "#     count = x\n",
    "#     if (i == count and x%count == 0 or x%1 == 0):\n",
    "#         print(f\"{x} is Prime number\")\n",
    "\n",
    "#     elif (x%i == 0):\n",
    "#         print(f\"{x} is not a Prime number\")\n",
    "    \n",
    "\n",
    "# num = int(input)\n",
    "\n",
    "for i in range(1,101):\n",
    "    isPrime = True\n",
    "    for j in range(2,101):\n",
    "        if i%j==0 and i !=j:\n",
    "            isPrime = False\n",
    "    if isPrime:\n",
    "        print(i)\n",
    "\n",
    "\n",
    "   "
   ]
  },
  {
   "cell_type": "code",
   "execution_count": null,
   "id": "38edb97b",
   "metadata": {},
   "outputs": [],
   "source": []
  }
 ],
 "metadata": {
  "kernelspec": {
   "display_name": "Python 3",
   "language": "python",
   "name": "python3"
  },
  "language_info": {
   "codemirror_mode": {
    "name": "ipython",
    "version": 3
   },
   "file_extension": ".py",
   "mimetype": "text/x-python",
   "name": "python",
   "nbconvert_exporter": "python",
   "pygments_lexer": "ipython3",
   "version": "3.11.9"
  }
 },
 "nbformat": 4,
 "nbformat_minor": 5
}
