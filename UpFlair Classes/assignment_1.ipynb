{
 "cells": [
  {
   "cell_type": "markdown",
   "id": "997ebb97",
   "metadata": {},
   "source": [
    "<p style=\"text-align:center;\"><b>Rahul Khadoliya</b><br>\n",
    "    <i>Assignment 1 </i></p>"
   ]
  },
  {
   "cell_type": "markdown",
   "id": "10df84d7",
   "metadata": {},
   "source": [
    "# Data Types"
   ]
  },
  {
   "cell_type": "markdown",
   "id": "56f0952d",
   "metadata": {},
   "source": [
    "### How do lists and tuples differ in terms of mutability and performance? When would you choose one over the other?"
   ]
  },
  {
   "cell_type": "code",
   "execution_count": null,
   "id": "09acc967",
   "metadata": {},
   "outputs": [],
   "source": [
    "# List is mutable thus can change after creation\n",
    "# Tuple is immutable. Can't be changed once created \n",
    "# Tuples are faster and use less memory.\n",
    "\n",
    "# Usecase of lists: when we need to modify data.\n",
    "# Usecase of tuples: for fixed data and performance.\n"
   ]
  },
  {
   "cell_type": "markdown",
   "id": "b0804945",
   "metadata": {},
   "source": [
    "### Explain how Python handles type conversion between different data types, such as between integers and floats or between strings and lists."
   ]
  },
  {
   "cell_type": "code",
   "execution_count": null,
   "id": "4a38f5f6",
   "metadata": {},
   "outputs": [],
   "source": [
    "# Type Conversion in Python refers to changing the data type of a \n",
    "# value from one type to another, such as from int to float, str to int, etc.\n",
    "\n",
    "# There are two ways to do so -\n",
    "# 1. Implicit Type Conversion : Done by python interpreter\n",
    "x = 10      # int\n",
    "y = 3.5     # float\n",
    "\n",
    "case = x + y\n",
    "print(c)        # 13.5\n",
    "print(type(c))  # <class 'float'>\n",
    "\n",
    "# 2. Explicit Type Conversion (Type Casting) : Manually done by developer\n",
    "int(\"5\") # → 5  \n",
    "list(\"abc\") # → ['a', 'b', 'c']\n"
   ]
  },
  {
   "cell_type": "markdown",
   "id": "e75d8b97",
   "metadata": {},
   "source": [
    "### What are the key differences between Python’s `list`, `set`, and `dictionary` data types? Provide examples of scenarios where each would be the most appropriate choice."
   ]
  },
  {
   "cell_type": "code",
   "execution_count": null,
   "id": "64975a9f",
   "metadata": {},
   "outputs": [],
   "source": [
    "# List: Ordered, allows duplicates.\n",
    "\n",
    "# Example: shopping list → [\"milk\", \"eggs\", \"bread\"]\n",
    "\n",
    "# Set: Unordered, no duplicates.\n",
    "\n",
    "# Example: unique student names → {\"Alice\", \"Bob\", \"Alice\"} → only one \"Alice\" is allowed\n",
    "\n",
    "# Dictionary: Stores key-value pairs.\n",
    "\n",
    "# Example: student scores → {\"Alice\": 90, \"Bob\": 85}"
   ]
  },
  {
   "cell_type": "markdown",
   "id": "3bb186c3",
   "metadata": {},
   "source": [
    "### Discuss the role of the `__repr__` and `__str__` methods in custom data types. How do they differ, and when should you implement them?"
   ]
  },
  {
   "cell_type": "code",
   "execution_count": null,
   "id": "1ce47823",
   "metadata": {},
   "outputs": [],
   "source": [
    "# __str__ → used for user-friendly display.\n",
    "def __str__(self):\n",
    "    return \"Nice output for users\"\n",
    "\n",
    "# __repr__ → used for developer-friendly or debugging display.\n",
    "def __repr__(self):\n",
    "    return \"Technical output for developers\"\n"
   ]
  },
  {
   "cell_type": "markdown",
   "id": "1a72bad1",
   "metadata": {},
   "source": [
    "### How does Python handle large integers? Explain the difference between `int` in Python 2 and Python 3."
   ]
  },
  {
   "cell_type": "code",
   "execution_count": null,
   "id": "07da7627",
   "metadata": {},
   "outputs": [],
   "source": [
    "# n Python 3, int can grow as large as needed (no fixed size).\n",
    "\n",
    "# In Python 2, int had a limit, and for big numbers, you had to use long."
   ]
  },
  {
   "cell_type": "markdown",
   "id": "e180fd9b",
   "metadata": {},
   "source": [
    "# Operators"
   ]
  },
  {
   "cell_type": "markdown",
   "id": "2b4bd81c",
   "metadata": {},
   "source": [
    "### What is the difference between the `+=` operator and the `+` operator in Python when used with mutable and immutable types?\n",
    " \n"
   ]
  },
  {
   "cell_type": "code",
   "execution_count": null,
   "id": "9e2eea1e",
   "metadata": {},
   "outputs": [],
   "source": [
    "# + creates a new object.\n",
    "\n",
    "# += changes the object (if it's mutable like a list).\n",
    "\n",
    "# x = [1, 2]\n",
    "# y = x\n",
    "# x += [3]  # changes x and y (same object)\n",
    "\n",
    "\n",
    "# Example with string (immutable):\n",
    "\n",
    "# s = \"Hi\", s += \"!\" → creates a new string \"Hi!"
   ]
  },
  {
   "cell_type": "markdown",
   "id": "d43ac40f",
   "metadata": {},
   "source": [
    "### Explain the purpose and use of the `in` operator in Python. How does it behave differently when used with different data types, such as strings, lists, and dictionaries?\n",
    " \n",
    " \n"
   ]
  },
  {
   "cell_type": "code",
   "execution_count": null,
   "id": "c22987d5",
   "metadata": {},
   "outputs": [],
   "source": [
    "# 'in' checks if something exists.\n",
    "\n",
    "# Strings: \"a\" in \"cat\" → True\n",
    "\n",
    "# Lists: 2 in [1, 2, 3] → True\n",
    "\n",
    "# Dictionaries: checks keys, not values."
   ]
  },
  {
   "cell_type": "markdown",
   "id": "2f2f6cf0",
   "metadata": {},
   "source": [
    "### How do the bitwise operators (`&`, `|`, `^`, `~`, `<<`, `>>`) work in Python? Provide examples of their usage.\n",
    " \n"
   ]
  },
  {
   "cell_type": "code",
   "execution_count": null,
   "id": "70294535",
   "metadata": {},
   "outputs": [],
   "source": [
    "# &: AND → 5 & 3 → 1\n",
    "\n",
    "# |: OR → 5 | 3 → 7\n",
    "\n",
    "# ^: XOR → 5 ^ 3 → 6\n",
    "\n",
    "# ~: NOT → ~5 → -6\n",
    "\n",
    "# <<: Left Shift → 2 << 1 → 4\n",
    "\n",
    "# >>: Right Shift → 4 >> 1 → 2"
   ]
  },
  {
   "cell_type": "markdown",
   "id": "0db9dec1",
   "metadata": {},
   "source": [
    "### What are augmented assignment operators, and how do they work in Python? Give examples with `+=`, `-=`, and `*=`.\n",
    " \n",
    " \n"
   ]
  },
  {
   "cell_type": "code",
   "execution_count": 1,
   "id": "c5147dfa",
   "metadata": {},
   "outputs": [],
   "source": [
    "# Shortcuts for writing expressions.\n",
    "\n",
    "# x += 2 → x = x + 2\n",
    "\n",
    "# y -= 3 → y = y - 3\n",
    "\n",
    "# z *= 4 → z = z * 4\n",
    "\n",
    "# Helps to write cleaner and faster code."
   ]
  },
  {
   "cell_type": "markdown",
   "id": "57baa6ea",
   "metadata": {},
   "source": [
    "### How does Python’s `is` operator differ from `==`, especially in terms of comparing lists, strings, and other complex data types"
   ]
  },
  {
   "cell_type": "code",
   "execution_count": null,
   "id": "3e0bb0d3",
   "metadata": {},
   "outputs": [],
   "source": [
    "#  == checks value (are they equal?).\n",
    "\n",
    "# is checks identity (same memory location?).\n",
    "\n",
    "# Example:\n",
    "\n",
    "# a = [1, 2], b = [1, 2]\n",
    "\n",
    "# a == b → True (same values)\n",
    "\n",
    "# a is b → False (different objects)"
   ]
  }
 ],
 "metadata": {
  "kernelspec": {
   "display_name": "Python 3",
   "language": "python",
   "name": "python3"
  },
  "language_info": {
   "codemirror_mode": {
    "name": "ipython",
    "version": 3
   },
   "file_extension": ".py",
   "mimetype": "text/x-python",
   "name": "python",
   "nbconvert_exporter": "python",
   "pygments_lexer": "ipython3",
   "version": "3.11.9"
  }
 },
 "nbformat": 4,
 "nbformat_minor": 5
}
