{
 "cells": [
  {
   "cell_type": "code",
   "execution_count": null,
   "id": "eeb49909",
   "metadata": {},
   "outputs": [],
   "source": [
    "#19th June 2025\n",
    "## INTRODUCTION TO SET\n",
    "\n",
    "# set -- mutable, unordered, No duplication \n",
    "# {} -- curly brackets to represent\n"
   ]
  },
  {
   "cell_type": "code",
   "execution_count": null,
   "id": "09a641ea",
   "metadata": {},
   "outputs": [
    {
     "name": "stdout",
     "output_type": "stream",
     "text": [
      "{0, 1.2, 2, True, 'hello', 'a'}\n",
      "<class 'set'>\n"
     ]
    }
   ],
   "source": [
    "# st = {0,1,'a',2,\"hello\", 1.2, True } \n",
    "# # If we write both 1 and True at same time than \n",
    "# # whichever comes first will be consired as it \n",
    "# # follows mathmatical rles\n",
    "# # 1 -- True0 -- Flase\n",
    "# print(st)\n",
    "# print(type(st))"
   ]
  },
  {
   "cell_type": "code",
   "execution_count": null,
   "id": "e9b8bfd9",
   "metadata": {},
   "outputs": [
    {
     "name": "stdout",
     "output_type": "stream",
     "text": [
      "{0, 1, 2, 1.2, 'hello', 'World', 'a'}\n"
     ]
    }
   ],
   "source": [
    "# st = {0,1,'a',2,\"hello\", 1.2, True } \n",
    "# #st.add(\"jai\")\n",
    "# #st.pop(\"Rahul\") # Pop only works on Index values \n",
    "# # st.pop() # Indexing is not possible since sets are unordered \n",
    "# # Randomanlly delets an element from the set \n",
    "# # st.remove(1) # raises an exception if element is not present\n",
    "# # st.discard(\"hello\") # does'nt raise any error\n",
    "# # st.update([\"hello\",\"World\"])\n",
    "\n",
    "# print(st)"
   ]
  },
  {
   "cell_type": "code",
   "execution_count": null,
   "id": "45bfdc44",
   "metadata": {},
   "outputs": [
    {
     "name": "stdout",
     "output_type": "stream",
     "text": [
      "{1, 2, 3}\n",
      "{1, 2, 4, 5}\n"
     ]
    }
   ],
   "source": [
    "st1 = {1,2,3}\n",
    "st2 = {3,4,5}\n",
    "st3 = {2,3}\n",
    "# Union - mere two sets and it will remove duplicate values \n",
    "# print(st1.union(st2))\n",
    "\n",
    "#Intersection -- common values \n",
    "# print(st1.intersection(st2))\n",
    "\n",
    "#Difference -- Values in st1 but not in st2\n",
    "# print(st1.difference(st2))\n",
    "\n",
    "#Symmetric difference -- values in st1 and st2 but not in both\n",
    "# print(st1.symmetric_difference(st2))\n",
    "\n",
    "# issubset -- check is st1 is subset of st2 \n",
    "# print(st1.issubset(st2))\n",
    "\n",
    "# issuperset -- check if st1 is superset of st2\n",
    "# print(st1.issuperset(st2))\n",
    "# print(st1.issuperset(st3))\n",
    "\n",
    "# Disjoint -- Check if set 1 and set2 don't have any common values\n",
    "# print(st2.isdisjoint(st3))\n",
    "\n",
    "# st1.update([6,7])\n",
    "# print(st1)\n",
    "#intersection_update -- Check \n",
    "\n",
    "# st1.intersection_update(st2) \n",
    "# Common value of both sets are removed from set1 and No change in set2\n",
    "# print(st1)\n",
    "# print(st2)\n",
    "\n",
    "# st1.difference_update(st2) \n",
    "# st2.difference_update(st1) \n",
    "# print(st1)\n",
    "# print(st2)\n",
    "\n",
    "# st1.symmetric_difference_update(st2) \n",
    "# st2.symmetric_difference_update(st1) \n",
    "# print(st1)\n",
    "# print(st2)\n"
   ]
  }
 ],
 "metadata": {
  "kernelspec": {
   "display_name": "Python 3",
   "language": "python",
   "name": "python3"
  },
  "language_info": {
   "codemirror_mode": {
    "name": "ipython",
    "version": 3
   },
   "file_extension": ".py",
   "mimetype": "text/x-python",
   "name": "python",
   "nbconvert_exporter": "python",
   "pygments_lexer": "ipython3",
   "version": "3.11.9"
  }
 },
 "nbformat": 4,
 "nbformat_minor": 5
}
