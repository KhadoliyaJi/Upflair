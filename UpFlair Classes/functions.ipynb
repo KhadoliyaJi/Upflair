{
 "cells": [
  {
   "cell_type": "code",
   "execution_count": null,
   "id": "beb90b04",
   "metadata": {},
   "outputs": [],
   "source": [
    "# function to find the largest among three numbers "
   ]
  },
  {
   "cell_type": "code",
   "execution_count": 4,
   "id": "785c00a5",
   "metadata": {},
   "outputs": [
    {
     "name": "stdout",
     "output_type": "stream",
     "text": [
      "4 is greater than 1 and 3\n"
     ]
    }
   ],
   "source": [
    "def islarger (a,b,c):\n",
    "    if (a>b and a>c):\n",
    "        print(f\"{a} is greater than {b} and {c}\")\n",
    "    elif (b>c and b>a):\n",
    "        print(f\"{b} is greater than {a} and {c}\")\n",
    "    elif (c>a and c>b):\n",
    "        print(f\"{c} is greater than {a} and {b}\")\n",
    "    elif (a==b==c):\n",
    "        print(f\"{a}, {b},and {c} all are equal\")\n",
    "islarger(1,3,4)\n"
   ]
  },
  {
   "cell_type": "code",
   "execution_count": null,
   "id": "66e88487",
   "metadata": {},
   "outputs": [
    {
     "name": "stdout",
     "output_type": "stream",
     "text": [
      "4 is greater than 2\n"
     ]
    }
   ],
   "source": [
    "def num(a,b,c):\n",
    "    if (a>b):\n",
    "        print(f\"{a} is greater than {b}\")\n",
    "    elif (b>c):\n",
    "        print(f\"{b} is greater than {c}\")\n",
    "    elif (a>c):\n",
    "        print(f\"{a} is greater than {c}\")\n",
    "    elif (c>a):\n",
    "        print(f\"{c} is greater than {a}\")\n",
    "    elif (c>b):\n",
    "        print(f\"{c} is greater than {b}\")\n",
    "    else:\n",
    "        print(\"All are equal\")\n",
    "num(2,3,4)\n",
    "\n"
   ]
  },
  {
   "cell_type": "code",
   "execution_count": null,
   "id": "9dacd245",
   "metadata": {},
   "outputs": [],
   "source": [
    "## Some built-in functions -- lambda, map, Filter, reduce,zip, enumerate"
   ]
  },
  {
   "cell_type": "code",
   "execution_count": null,
   "id": "3ddfc8aa",
   "metadata": {},
   "outputs": [
    {
     "name": "stdout",
     "output_type": "stream",
     "text": [
      "10\n"
     ]
    }
   ],
   "source": [
    "## lambda -- small anonymous function\n",
    "## lambda arguments : expression\n",
    "\n",
    "def add(x):\n",
    "    return x+5\n",
    "\n",
    "add(5)\n",
    "\n",
    "a = lambda x:x+5\n",
    "print(a(5))\n",
    "\n"
   ]
  },
  {
   "cell_type": "code",
   "execution_count": 9,
   "id": "55b9f856",
   "metadata": {},
   "outputs": [
    {
     "name": "stdout",
     "output_type": "stream",
     "text": [
      "1032\n"
     ]
    }
   ],
   "source": [
    "x=lambda a : a + 10\n",
    "x=lambda a,b : a + b\n",
    "x=lambda a,b,c,d : a + b + c + d\n",
    "print(x(5,1000,20,7))\n"
   ]
  },
  {
   "cell_type": "code",
   "execution_count": 10,
   "id": "a16b66e2",
   "metadata": {},
   "outputs": [
    {
     "name": "stdout",
     "output_type": "stream",
     "text": [
      "[4, 9, 16]\n"
     ]
    }
   ],
   "source": [
    "def fun(ls):\n",
    "    ls1=[]\n",
    "    for i in ls:\n",
    "        ls1.append(i*i)\n",
    "    print(ls1)\n",
    "ls = [2,3,4]\n",
    "fun(ls)"
   ]
  },
  {
   "cell_type": "code",
   "execution_count": 13,
   "id": "d29fe553",
   "metadata": {},
   "outputs": [],
   "source": [
    "## map -- used to apply a function to each item in an \n",
    "# iterable and returns a map objects\n",
    "# map(function,iterable)\n",
    "def sq(n):\n",
    "    return n*n"
   ]
  },
  {
   "cell_type": "code",
   "execution_count": null,
   "id": "deaff451",
   "metadata": {},
   "outputs": [
    {
     "data": {
      "text/plain": [
       "[1, 4, 9, 16, 25]"
      ]
     },
     "execution_count": 14,
     "metadata": {},
     "output_type": "execute_result"
    }
   ],
   "source": [
    "def sq(n):\n",
    "    return n*n\n",
    "x = [1,2,3,4,5]\n",
    "result = list(map(sq,x))\n",
    "result\n"
   ]
  },
  {
   "cell_type": "code",
   "execution_count": 15,
   "id": "c185bf6b",
   "metadata": {},
   "outputs": [
    {
     "data": {
      "text/plain": [
       "[1, 4, 9, 16]"
      ]
     },
     "execution_count": 15,
     "metadata": {},
     "output_type": "execute_result"
    }
   ],
   "source": [
    "x=[1,2,3,4]\n",
    "result = list(map(lambda n : n*n,x))\n",
    "result"
   ]
  },
  {
   "cell_type": "code",
   "execution_count": 18,
   "id": "5f3e972c",
   "metadata": {},
   "outputs": [
    {
     "data": {
      "text/plain": [
       "[2, 4]"
      ]
     },
     "execution_count": 18,
     "metadata": {},
     "output_type": "execute_result"
    }
   ],
   "source": [
    "## filter( function,iterable ) -- returns a filter object \n",
    "x=[1,2,3,4,5]\n",
    "result = list(filter(lambda n : n%2 == 0,x))\n",
    "result"
   ]
  },
  {
   "cell_type": "code",
   "execution_count": 20,
   "id": "e717b1b7",
   "metadata": {},
   "outputs": [
    {
     "data": {
      "text/plain": [
       "15"
      ]
     },
     "execution_count": 20,
     "metadata": {},
     "output_type": "execute_result"
    }
   ],
   "source": [
    "# reduce \n",
    "from functools import reduce \n",
    "## reduce -- returns a single element\n",
    "## reduce(function,iterable)\n",
    "x=[1,2,3,4,5]\n",
    "result = reduce(lambda n1,n2 : n1+n2,x)\n",
    "result\n",
    "\n",
    "## moves from left to right\n",
    "## [3,3,4,5] -- [6,4,5] -- [10,5] -- [15]\n"
   ]
  },
  {
   "cell_type": "code",
   "execution_count": 26,
   "id": "311b18ed",
   "metadata": {},
   "outputs": [
    {
     "data": {
      "text/plain": [
       "[(1, 'red'), (2, 'black'), (3, 'blue')]"
      ]
     },
     "execution_count": 26,
     "metadata": {},
     "output_type": "execute_result"
    }
   ],
   "source": [
    "## zip -- used to combine two or more iterables into a single one\n",
    "## zip(iterable)\n",
    "\n",
    "x=[1,2,3]\n",
    "y=['red','black','blue']\n",
    "result = list(zip(x,y))\n",
    "result"
   ]
  },
  {
   "cell_type": "code",
   "execution_count": 28,
   "id": "6742bae1",
   "metadata": {},
   "outputs": [
    {
     "data": {
      "text/plain": [
       "[(1, 'red'), (2, 'black'), (3, 'blue')]"
      ]
     },
     "execution_count": 28,
     "metadata": {},
     "output_type": "execute_result"
    }
   ],
   "source": [
    "## enumerate \n",
    "## enumerate(iterable,start=0)\n",
    "\n",
    "x = ['red','black','blue']\n",
    "result = list(enumerate(x,start=1))\n",
    "result"
   ]
  },
  {
   "cell_type": "code",
   "execution_count": null,
   "id": "71c15b98",
   "metadata": {},
   "outputs": [],
   "source": []
  }
 ],
 "metadata": {
  "kernelspec": {
   "display_name": "Python 3",
   "language": "python",
   "name": "python3"
  },
  "language_info": {
   "codemirror_mode": {
    "name": "ipython",
    "version": 3
   },
   "file_extension": ".py",
   "mimetype": "text/x-python",
   "name": "python",
   "nbconvert_exporter": "python",
   "pygments_lexer": "ipython3",
   "version": "3.11.9"
  }
 },
 "nbformat": 4,
 "nbformat_minor": 5
}
