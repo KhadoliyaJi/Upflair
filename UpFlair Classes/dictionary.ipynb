{
 "cells": [
  {
   "cell_type": "code",
   "execution_count": null,
   "id": "5a996d6b",
   "metadata": {},
   "outputs": [],
   "source": [
    "### 19th June 2025\n",
    "### Day 3"
   ]
  },
  {
   "cell_type": "code",
   "execution_count": null,
   "id": "5b10352a",
   "metadata": {},
   "outputs": [],
   "source": [
    "### dit --- key : value pair --- {  }\n",
    "### dit --- ordered , mutable, \n",
    "#  do not allow duplicate values and \n",
    "# heterogeneous (multiple data ) \n"
   ]
  },
  {
   "cell_type": "code",
   "execution_count": null,
   "id": "7fb8a2eb",
   "metadata": {},
   "outputs": [
    {
     "name": "stdout",
     "output_type": "stream",
     "text": [
      "{'name': 'Ram', 'age': 20, 'class': 'CSE'}\n",
      "<class 'dict'>\n"
     ]
    }
   ],
   "source": [
    "# dt = {\n",
    "#     \"name\" : \"Ram\",\n",
    "#     \"age\" : 20,\n",
    "#     \"class\" : 'CSE'\n",
    "# }\n",
    "# print(dt)\n",
    "# print(type(dt))\n"
   ]
  },
  {
   "cell_type": "code",
   "execution_count": null,
   "id": "01154eaa",
   "metadata": {},
   "outputs": [
    {
     "name": "stdout",
     "output_type": "stream",
     "text": [
      "{}\n"
     ]
    }
   ],
   "source": [
    "# # dt[\"name\"] = \"Rohan\"\n",
    "# dt.clear()\n",
    "# print(dt)"
   ]
  },
  {
   "cell_type": "code",
   "execution_count": null,
   "id": "1d49929d",
   "metadata": {},
   "outputs": [
    {
     "data": {
      "text/plain": [
       "{'name': '', 'age': 20, 'class': 'CSE'}"
      ]
     },
     "execution_count": 21,
     "metadata": {},
     "output_type": "execute_result"
    }
   ],
   "source": [
    "# dt = {\n",
    "#     \"name\" :\"Ram\",\n",
    "#     \"age\" : 20,\n",
    "#     \"class\" : 'CSE'\n",
    "# }\n",
    "# dt.get(\"name\")\n",
    "# dt.keys()\n",
    "# dt.values()\n",
    "# dt.items()\n",
    "# dt.update({\"name\":\"Shyam\",\"hello\" : \"World\"})\n",
    "# dt.pop(\"name\")\n",
    "# dt.popitem() # removes last item you added \n",
    "\n"
   ]
  },
  {
   "cell_type": "code",
   "execution_count": 22,
   "id": "899c2783",
   "metadata": {},
   "outputs": [
    {
     "data": {
      "text/plain": [
       "{'age': 20, 'class': 'CSE', 'name': 'Ram'}"
      ]
     },
     "execution_count": 22,
     "metadata": {},
     "output_type": "execute_result"
    }
   ],
   "source": [
    "dt = {\n",
    "    \"age\" : 20,\n",
    "    \"class\" : 'CSE'\n",
    "}\n",
    "dt.setdefault(\"name\",\"Ram\")\n",
    "dt"
   ]
  },
  {
   "cell_type": "code",
   "execution_count": 24,
   "id": "29d0c991",
   "metadata": {},
   "outputs": [
    {
     "name": "stdout",
     "output_type": "stream",
     "text": [
      "{'a': 1, 'b': 1, 'c': 1}\n"
     ]
    }
   ],
   "source": [
    "keys = ['a','b','c']\n",
    "new_dict = dict.fromkeys(keys,1)\n",
    "print(new_dict)"
   ]
  }
 ],
 "metadata": {
  "kernelspec": {
   "display_name": "Python 3",
   "language": "python",
   "name": "python3"
  },
  "language_info": {
   "codemirror_mode": {
    "name": "ipython",
    "version": 3
   },
   "file_extension": ".py",
   "mimetype": "text/x-python",
   "name": "python",
   "nbconvert_exporter": "python",
   "pygments_lexer": "ipython3",
   "version": "3.11.9"
  }
 },
 "nbformat": 4,
 "nbformat_minor": 5
}
