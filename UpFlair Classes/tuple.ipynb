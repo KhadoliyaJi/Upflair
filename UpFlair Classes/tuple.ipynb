{
 "cells": [
  {
   "cell_type": "code",
   "execution_count": null,
   "id": "bc5eec92",
   "metadata": {},
   "outputs": [
    {
     "name": "stdout",
     "output_type": "stream",
     "text": [
      "('Red',)\n",
      "<class 'tuple'>\n"
     ]
    }
   ],
   "source": [
    "# 18th June 2025\n",
    "##Tpl --()\n",
    "##tpl - Ordered, Immutable, Allows Duplication of Value and is Heterogeneous \n",
    "\n",
    "# # tpl=tuple(\"Red\")\n",
    "tpl=(\"Red\",)\n",
    "print(tpl)\n",
    "print(type(tpl))"
   ]
  },
  {
   "cell_type": "markdown",
   "id": "fdf6bc08",
   "metadata": {},
   "source": []
  },
  {
   "cell_type": "code",
   "execution_count": 14,
   "id": "ae212cb2",
   "metadata": {},
   "outputs": [
    {
     "name": "stdout",
     "output_type": "stream",
     "text": [
      "('Red', 'Black', 'Blue', 'Red')\n",
      "<class 'tuple'>\n"
     ]
    }
   ],
   "source": [
    "tpl = (\"Red\", \"Black\",\"Blue\",\"Red\")\n",
    "print(tpl)\n",
    "print(type(tpl))"
   ]
  },
  {
   "cell_type": "code",
   "execution_count": 15,
   "id": "05ecb152",
   "metadata": {},
   "outputs": [
    {
     "name": "stdout",
     "output_type": "stream",
     "text": [
      "Hello world\n"
     ]
    }
   ],
   "source": [
    "print('Hello world')"
   ]
  },
  {
   "cell_type": "code",
   "execution_count": null,
   "id": "be41715d",
   "metadata": {},
   "outputs": [
    {
     "name": "stdout",
     "output_type": "stream",
     "text": [
      "Hello, Hello\n"
     ]
    }
   ],
   "source": [
    "# a=input(\"Enter your name\")\n",
    "# print(f\"Hello, {a}\")"
   ]
  },
  {
   "cell_type": "code",
   "execution_count": 18,
   "id": "e49f7306",
   "metadata": {},
   "outputs": [
    {
     "data": {
      "text/plain": [
       "2"
      ]
     },
     "execution_count": 18,
     "metadata": {},
     "output_type": "execute_result"
    }
   ],
   "source": [
    "tpl = (\"Red\", \"Black\",\"Blue\",\"Red\")\n",
    "tpl.count(\"Red\")"
   ]
  },
  {
   "cell_type": "code",
   "execution_count": null,
   "id": "1792bcdb",
   "metadata": {},
   "outputs": [
    {
     "name": "stdout",
     "output_type": "stream",
     "text": [
      "('Red', 'Black', 'Blue', 'Red', 'A', 'B')\n"
     ]
    }
   ],
   "source": [
    "tpl = (\"Red\", \"Black\",\"Blue\",\"Red\")\n",
    "\n",
    "temp = list(tpl)\n",
    "temp.extend(['A','B'])\n",
    "tpl=tuple(temp)\n",
    "print(tpl)\n"
   ]
  }
 ],
 "metadata": {
  "kernelspec": {
   "display_name": "Python 3",
   "language": "python",
   "name": "python3"
  },
  "language_info": {
   "codemirror_mode": {
    "name": "ipython",
    "version": 3
   },
   "file_extension": ".py",
   "mimetype": "text/x-python",
   "name": "python",
   "nbconvert_exporter": "python",
   "pygments_lexer": "ipython3",
   "version": "3.11.9"
  }
 },
 "nbformat": 4,
 "nbformat_minor": 5
}
