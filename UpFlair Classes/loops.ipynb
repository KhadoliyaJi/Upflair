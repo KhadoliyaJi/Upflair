{
 "cells": [
  {
   "cell_type": "code",
   "execution_count": null,
   "id": "38e54d53",
   "metadata": {},
   "outputs": [],
   "source": [
    "## 20 June 2025\n",
    "# Day 4\n",
    "\n",
    "# Loops -- Repeats a part of code as per the condition given \n",
    "# (as far as it is true)"
   ]
  },
  {
   "cell_type": "code",
   "execution_count": null,
   "id": "76702fdf",
   "metadata": {},
   "outputs": [],
   "source": [
    "## For Loop -- Used to itrate over a sequence (list,tuple,dict,range)"
   ]
  },
  {
   "cell_type": "code",
   "execution_count": null,
   "id": "16d25fb1",
   "metadata": {},
   "outputs": [],
   "source": [
    "# String\n",
    "for i in \"hello\":\n",
    "    print(i)\n",
    "## here 'i' is --- Temprory variable\n",
    " \n",
    "for _ in \"hello\":\n",
    "    print(_)\n",
    "# '_' is also a valid Temp Variable"
   ]
  },
  {
   "cell_type": "code",
   "execution_count": 5,
   "id": "9e04fc14",
   "metadata": {},
   "outputs": [
    {
     "name": "stdout",
     "output_type": "stream",
     "text": [
      "1\n",
      "2\n",
      "hello\n",
      "True\n",
      "1.2\n"
     ]
    }
   ],
   "source": [
    "# List\n",
    "lst =[1,2,'hello', True,1.2]\n",
    "for i in lst:\n",
    "    print(i)"
   ]
  },
  {
   "cell_type": "code",
   "execution_count": 6,
   "id": "7d37f255",
   "metadata": {},
   "outputs": [
    {
     "name": "stdout",
     "output_type": "stream",
     "text": [
      "Red\n",
      "Black\n",
      "Blue\n",
      "Red\n"
     ]
    }
   ],
   "source": [
    "# tuple\n",
    "tpl = (\"Red\", \"Black\",\"Blue\",\"Red\")\n",
    "for i in tpl:\n",
    "    print(i)"
   ]
  },
  {
   "cell_type": "code",
   "execution_count": null,
   "id": "6641a27e",
   "metadata": {},
   "outputs": [],
   "source": [
    "# Set\n",
    "st = {0,1,'a',2,\"hello\", 1.2, True } \n",
    "for i in st:\n",
    "    print(i)"
   ]
  },
  {
   "cell_type": "code",
   "execution_count": 13,
   "id": "1ed84bc4",
   "metadata": {},
   "outputs": [
    {
     "name": "stdout",
     "output_type": "stream",
     "text": [
      "name : Ram\n",
      "age : 20\n",
      "class : CSE\n"
     ]
    }
   ],
   "source": [
    "dt = {\n",
    "    \"name\" : \"Ram\",\n",
    "    \"age\" : 20,\n",
    "    \"class\" : 'CSE'\n",
    "}\n",
    "\n",
    "for i in dt:\n",
    "    print(i,\":\",dt[i])\n"
   ]
  },
  {
   "cell_type": "code",
   "execution_count": 15,
   "id": "87208775",
   "metadata": {},
   "outputs": [
    {
     "name": "stdout",
     "output_type": "stream",
     "text": [
      "dict_items([('name', 'Ram'), ('age', 20), ('class', 'CSE')])\n"
     ]
    }
   ],
   "source": [
    "dt = {\n",
    "    \"name\" : \"Ram\",\n",
    "    \"age\" : 20,\n",
    "    \"class\" : 'CSE'\n",
    "}\n",
    "print(dt.items())\n",
    "# for i,j in dt.items():\n",
    "#     print(i, \":\",j)"
   ]
  },
  {
   "cell_type": "code",
   "execution_count": null,
   "id": "d4d69e7f",
   "metadata": {},
   "outputs": [],
   "source": [
    "# range -- syntax (Initiali, Last point, Skip)\n",
    "\n",
    "for i in range (2,11,2):\n",
    "    print(i)"
   ]
  },
  {
   "cell_type": "code",
   "execution_count": null,
   "id": "ffe7d981",
   "metadata": {},
   "outputs": [],
   "source": [
    "# Nested Loop \n",
    "lst = [1,2,3]\n",
    "lst2 = ['a','b','c']\n",
    "\n",
    "for i in lst:\n",
    "    for j in lst2:\n",
    "        print(i,j)\n",
    "        "
   ]
  },
  {
   "cell_type": "code",
   "execution_count": null,
   "id": "3997694f",
   "metadata": {},
   "outputs": [],
   "source": [
    "## Break -- Stops the iteration of the LOOP\n",
    "for i in range (1,10):\n",
    "    if i == 5:\n",
    "        break\n",
    "    print(i)"
   ]
  },
  {
   "cell_type": "code",
   "execution_count": null,
   "id": "e9c3a363",
   "metadata": {},
   "outputs": [],
   "source": [
    "## Continue -- Stops the current iteration in the LOOP\n",
    "for i in range (1,10):\n",
    "    if i == 5:\n",
    "        continue \n",
    "    print(i)"
   ]
  },
  {
   "cell_type": "code",
   "execution_count": null,
   "id": "c6687e06",
   "metadata": {},
   "outputs": [],
   "source": [
    "## Pass -- Used to run the incomplete code without any error\n",
    "for i in range(1,10):\n",
    "    pass"
   ]
  },
  {
   "cell_type": "code",
   "execution_count": 15,
   "id": "bcfc5b94",
   "metadata": {},
   "outputs": [
    {
     "name": "stdout",
     "output_type": "stream",
     "text": [
      "[4, 9, 16, 25]\n"
     ]
    }
   ],
   "source": [
    "## Question : Square list elements and give the out in list as well\n",
    "\n",
    "lst = [2,3,4,5]\n",
    "# sq_list = []\n",
    "# for i in lst:\n",
    "#     sq = i*i\n",
    "#     sq_list.append(sq)\n",
    "# print(sq_list)\n",
    "\n",
    "sq_list = [i*i for i in lst]\n",
    "print(sq_list)\n"
   ]
  },
  {
   "cell_type": "code",
   "execution_count": null,
   "id": "7afc4f22",
   "metadata": {},
   "outputs": [
    {
     "name": "stdout",
     "output_type": "stream",
     "text": [
      "[4, 3, 2, 1]\n"
     ]
    }
   ],
   "source": [
    "## Question -- Reverse a list\n",
    "lst = [1,2,3,4]\n",
    "lst1 = lst [::-1]\n",
    "print(lst1)\n",
    "# or\n",
    "lst = [1, 2, 3, 4, 5]\n",
    "revList = []\n",
    "for i in range(-1,-6,-1):\n",
    "    revList.append(lst[i])\n",
    "print(revList)"
   ]
  },
  {
   "cell_type": "code",
   "execution_count": null,
   "id": "8dd72159",
   "metadata": {},
   "outputs": [],
   "source": [
    "## While loop -- If Condition is True \n",
    "i = 1\n",
    "while i <= 10:\n",
    "    print(i)\n",
    "    i += 1 "
   ]
  },
  {
   "cell_type": "code",
   "execution_count": null,
   "id": "32fd70ff",
   "metadata": {},
   "outputs": [
    {
     "name": "stdout",
     "output_type": "stream",
     "text": [
      "9\n",
      "8\n",
      "6\n"
     ]
    }
   ],
   "source": [
    "i = 10\n",
    "while i >= 0:\n",
    "    if i == 6:\n",
    "        break\n",
    "    if i%7==0:\n",
    "        i -= 1 \n",
    "        continue\n",
    "    print(i)\n",
    "    i -= 1  "
   ]
  },
  {
   "cell_type": "code",
   "execution_count": null,
   "id": "2da2ae15",
   "metadata": {},
   "outputs": [],
   "source": []
  }
 ],
 "metadata": {
  "kernelspec": {
   "display_name": "Python 3",
   "language": "python",
   "name": "python3"
  },
  "language_info": {
   "codemirror_mode": {
    "name": "ipython",
    "version": 3
   },
   "file_extension": ".py",
   "mimetype": "text/x-python",
   "name": "python",
   "nbconvert_exporter": "python",
   "pygments_lexer": "ipython3",
   "version": "3.11.9"
  }
 },
 "nbformat": 4,
 "nbformat_minor": 5
}
