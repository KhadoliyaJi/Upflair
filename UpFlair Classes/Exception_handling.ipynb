{
 "cells": [
  {
   "cell_type": "code",
   "execution_count": null,
   "id": "87686629",
   "metadata": {},
   "outputs": [],
   "source": [
    "## 21st June 2024\n",
    "# Day 5 \n",
    " \n",
    "# Exception --- Error Handling\n",
    "#  try, except, else, finally "
   ]
  },
  {
   "cell_type": "code",
   "execution_count": null,
   "id": "bff96fef",
   "metadata": {},
   "outputs": [],
   "source": [
    "## KINDS OF ERRORS \n",
    "\n",
    "# SyntaxError – Raised when there is an incorrect syntax in the code.\n",
    "\n",
    "# IndentationError – Raised when indentation is not correct (e.g., unexpected indent).\n",
    "\n",
    "# NameError – Raised when a variable or name is not defined.\n",
    "\n",
    "# TypeError – Raised when an operation is applied to an object of inappropriate type.\n",
    "\n",
    "# ValueError – Raised when a function receives an argument of the right type but wrong value.\n",
    "\n",
    "# IndexError – Raised when trying to access an index that is out of range in a list or tuple.\n",
    "\n",
    "# KeyError – Raised when a dictionary key is not found.\n",
    "\n",
    "# AttributeError – Raised when an invalid attribute is accessed on an object.\n",
    "\n",
    "# ZeroDivisionError – Raised when a number is divided by zero.\n",
    "\n",
    "# ImportError – Raised when an import statement fails.\n",
    "\n",
    "# ModuleNotFoundError – Raised when a module cannot be found.\n",
    "\n",
    "# FileNotFoundError – Raised when a file or directory is requested but doesn’t exist.\n",
    "\n",
    "# OverflowError – Raised when a number is too large to be represented.\n",
    "\n",
    "# RuntimeError – Raised when an error doesn't fall into other categories.\n",
    "\n",
    "# StopIteration – Raised by iterators to signal that there are no more items.\n",
    "\n",
    "# EOFError – Raised when input() hits an end-of-file condition.\n",
    "\n",
    "# AssertionError – Raised when an assert statement fails.\n",
    "\n",
    "# MemoryError – Raised when an operation runs out of memory.\n",
    "\n",
    "# FloatingPointError – Raised when a floating point operation fails.\n",
    "\n",
    "# NotImplementedError – Raised when a feature is not implemented.\n",
    "\n",
    "# OSError – Raised when a system-related operation fails (like file or directory access).\n",
    "\n",
    "# KeyboardInterrupt – Raised when the user interrupts the program (e.g., Ctrl+C).\n",
    "\n",
    "# SystemExit – Raised when sys.exit() is called to exit the program."
   ]
  },
  {
   "cell_type": "code",
   "execution_count": null,
   "id": "788c44e4",
   "metadata": {},
   "outputs": [],
   "source": [
    "# try -- your code will be written in this \n",
    "# except -- it is used to handle the exception \n",
    "# else -- if there is no error in try and we still wants some output than we use esle\n",
    "# finally -- it always runs wheather there is error or not "
   ]
  },
  {
   "cell_type": "code",
   "execution_count": 2,
   "id": "6d3fda7c",
   "metadata": {},
   "outputs": [
    {
     "name": "stdout",
     "output_type": "stream",
     "text": [
      "this is exception\n",
      "this is finally part.\n"
     ]
    }
   ],
   "source": [
    "try:\n",
    "    print(10/0)\n",
    "except:\n",
    "    print(\"this is exception\")\n",
    "else:\n",
    "    print(\"this is else part\")\n",
    "finally:\n",
    "    print(\"this is finally part.\") # This part always prints"
   ]
  },
  {
   "cell_type": "code",
   "execution_count": 7,
   "id": "430e3298",
   "metadata": {},
   "outputs": [
    {
     "name": "stdout",
     "output_type": "stream",
     "text": [
      "1.0\n",
      "this is else part\n",
      "this is finally part.\n"
     ]
    }
   ],
   "source": [
    "try:\n",
    "    print(10/10)\n",
    "except:\n",
    "    print(\"this is exception\")\n",
    "else:\n",
    "    print(\"this is else part\")\n",
    "finally:\n",
    "    print(\"this is finally part.\") # This part always prints"
   ]
  },
  {
   "cell_type": "code",
   "execution_count": null,
   "id": "d982cb13",
   "metadata": {},
   "outputs": [
    {
     "name": "stdout",
     "output_type": "stream",
     "text": [
      "3.142857142857143\n",
      "this is else part\n",
      "this is finally part.\n"
     ]
    }
   ],
   "source": [
    "try:\n",
    "    print()\n",
    "except Exception as e: \n",
    "    # Exception is a kind of pre defined bag where \n",
    "    # all kinds of errors are stored and here it is used to find that\n",
    "    print(\"this is exception\",\"---\", e)\n",
    "else:\n",
    "    print(\"this is else part\")\n",
    "finally:\n",
    "    print(\"this is finally part.\") # This part always prints"
   ]
  },
  {
   "cell_type": "code",
   "execution_count": null,
   "id": "280b2d15",
   "metadata": {},
   "outputs": [],
   "source": []
  }
 ],
 "metadata": {
  "kernelspec": {
   "display_name": "Python 3",
   "language": "python",
   "name": "python3"
  },
  "language_info": {
   "codemirror_mode": {
    "name": "ipython",
    "version": 3
   },
   "file_extension": ".py",
   "mimetype": "text/x-python",
   "name": "python",
   "nbconvert_exporter": "python",
   "pygments_lexer": "ipython3",
   "version": "3.11.9"
  }
 },
 "nbformat": 4,
 "nbformat_minor": 5
}
