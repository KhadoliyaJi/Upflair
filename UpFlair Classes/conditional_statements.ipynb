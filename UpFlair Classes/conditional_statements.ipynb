{
 "cells": [
  {
   "cell_type": "code",
   "execution_count": null,
   "id": "97159801",
   "metadata": {},
   "outputs": [],
   "source": [
    "## 20th June 2025\n",
    "## Day 4"
   ]
  },
  {
   "cell_type": "code",
   "execution_count": null,
   "id": "1eaff1b3",
   "metadata": {},
   "outputs": [
    {
     "name": "stdout",
     "output_type": "stream",
     "text": [
      "4 is greater than 3\n"
     ]
    }
   ],
   "source": [
    "# Basic if, elif else statement structure \n",
    "a,b = 3,4\n",
    "if a>b:\n",
    "    print(f\"{a} is greater than {b}\")\n",
    "elif a == b:\n",
    "    print(f\"{a} is equal to {b}\")\n",
    "else :\n",
    "    print(f\"{b} is greater than {a}\")"
   ]
  },
  {
   "cell_type": "code",
   "execution_count": 3,
   "id": "2d7ea28f",
   "metadata": {},
   "outputs": [
    {
     "name": "stdout",
     "output_type": "stream",
     "text": [
      "Even\n"
     ]
    }
   ],
   "source": [
    "#Nested if else -- if else inside if else \n",
    "x = 10\n",
    "if x>=0:\n",
    "    if x%2==0:\n",
    "        print(\"Even\")\n",
    "    else:\n",
    "        print(\"Odd\")\n",
    "else :\n",
    "    print(f\"{x} is smaller than 0\")"
   ]
  },
  {
   "cell_type": "code",
   "execution_count": null,
   "id": "379a3751",
   "metadata": {},
   "outputs": [
    {
     "name": "stdout",
     "output_type": "stream",
     "text": [
      "a is greater \n"
     ]
    }
   ],
   "source": [
    "## TERNARY OPERATOR -- One Line if else statement\n",
    "## Just a short way to write if else statements\n",
    "# SYNTAX: Value_if true if condition else value_if_false\n",
    "a,b = 20,10\n",
    "print(\"a is greater \") if a>b else print(\"b is greater\")"
   ]
  },
  {
   "cell_type": "code",
   "execution_count": 10,
   "id": "10fa7515",
   "metadata": {},
   "outputs": [
    {
     "name": "stdout",
     "output_type": "stream",
     "text": [
      "Your grade is  A\n"
     ]
    }
   ],
   "source": [
    "# Nested Ternary Operator\n",
    "marks = 90\n",
    "grade = \"A\" if marks >= 90 else \"B\" if marks >=75 else \"C\" if marks >= 60 else\"F\"\n",
    "print(\"Your grade is \",grade)"
   ]
  },
  {
   "cell_type": "code",
   "execution_count": null,
   "id": "9314672c",
   "metadata": {},
   "outputs": [
    {
     "name": "stdout",
     "output_type": "stream",
     "text": [
      "hello\n"
     ]
    }
   ],
   "source": [
    "a=100\n",
    "b=0\n",
    "c=30\n",
    "# not -- Reverses the outcome of the condition\n",
    "# True to False\n",
    "# False to True\n",
    "if not(a<c or a==b): \n",
    "    print(\"hello\")\n",
    "elif a==b:\n",
    "    print(\"Hi\")\n",
    "else :\n",
    "    print(\"World\")"
   ]
  }
 ],
 "metadata": {
  "kernelspec": {
   "display_name": "Python 3",
   "language": "python",
   "name": "python3"
  },
  "language_info": {
   "codemirror_mode": {
    "name": "ipython",
    "version": 3
   },
   "file_extension": ".py",
   "mimetype": "text/x-python",
   "name": "python",
   "nbconvert_exporter": "python",
   "pygments_lexer": "ipython3",
   "version": "3.11.9"
  }
 },
 "nbformat": 4,
 "nbformat_minor": 5
}
