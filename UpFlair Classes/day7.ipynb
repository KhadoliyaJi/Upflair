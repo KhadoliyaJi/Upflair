{
 "cells": [
  {
   "cell_type": "code",
   "execution_count": null,
   "id": "c641bf64",
   "metadata": {},
   "outputs": [],
   "source": [
    "## 24th June 2025\n",
    "## GitHub set-up\n",
    "\n",
    "# git config --global user.name \"KhadoliyaJi\"\n",
    "# git config --global user.email \"rahulkhadliya1122@gmail.com\"\n",
    "# git clone github_reposatry_link\n"
   ]
  },
  {
   "cell_type": "code",
   "execution_count": null,
   "id": "8452c5d4",
   "metadata": {},
   "outputs": [],
   "source": [
    "# git add .\n",
    "# git commit -m \n",
    "# git push \n",
    "\n"
   ]
  }
 ],
 "metadata": {
  "language_info": {
   "name": "python"
  }
 },
 "nbformat": 4,
 "nbformat_minor": 5
}
